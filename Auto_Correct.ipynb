{
 "cells": [
  {
   "cell_type": "code",
   "execution_count": null,
   "id": "503b95b0",
   "metadata": {},
   "outputs": [],
   "source": [
    "!pip install spello"
   ]
  },
  {
   "cell_type": "code",
   "execution_count": 36,
   "id": "77e41543",
   "metadata": {},
   "outputs": [],
   "source": [
    "from spello.model import SpellCorrectionModel"
   ]
  },
  {
   "cell_type": "code",
   "execution_count": 37,
   "id": "f3641340",
   "metadata": {},
   "outputs": [],
   "source": [
    "model = SpellCorrectionModel(language=\"en\")"
   ]
  },
  {
   "cell_type": "code",
   "execution_count": 38,
   "id": "3fd69b4d",
   "metadata": {},
   "outputs": [],
   "source": [
    "with open (\"words.txt\") as file:\n",
    "    data = file.readlines()\n",
    "\n",
    "data = [i.strip() for i in data]"
   ]
  },
  {
   "cell_type": "code",
   "execution_count": null,
   "id": "1182b284",
   "metadata": {},
   "outputs": [],
   "source": [
    "model.train(data)"
   ]
  },
  {
   "cell_type": "code",
   "execution_count": 40,
   "id": "f6cae7ac",
   "metadata": {},
   "outputs": [
    {
     "data": {
      "text/plain": [
       "'.\\\\model.pkl'"
      ]
     },
     "execution_count": 40,
     "metadata": {},
     "output_type": "execute_result"
    }
   ],
   "source": [
    "model.save(\"\")"
   ]
  },
  {
   "cell_type": "code",
   "execution_count": 41,
   "id": "83d6e4f0",
   "metadata": {},
   "outputs": [
    {
     "data": {
      "text/plain": [
       "<spello.model.SpellCorrectionModel at 0x19594df4d10>"
      ]
     },
     "execution_count": 41,
     "metadata": {},
     "output_type": "execute_result"
    }
   ],
   "source": [
    "model.load(\"model.pkl\")"
   ]
  },
  {
   "cell_type": "code",
   "execution_count": 42,
   "id": "e81260b7",
   "metadata": {},
   "outputs": [],
   "source": [
    "lines = input(\"Enter the sentence/word : \")"
   ]
  },
  {
   "cell_type": "code",
   "execution_count": 43,
   "id": "e501b381",
   "metadata": {},
   "outputs": [],
   "source": [
    "words = lines.split()"
   ]
  },
  {
   "cell_type": "code",
   "execution_count": 44,
   "id": "0a3ef2ef",
   "metadata": {},
   "outputs": [],
   "source": [
    "correct_words = []\n",
    "for word in words:\n",
    "    corrected = model.spell_correct(word)\n",
    "    correct_words.append(corrected['spell_corrected_text'])\n",
    "    \n",
    "corrected_sentence = \" \".join(correct_words)"
   ]
  },
  {
   "cell_type": "code",
   "execution_count": null,
   "id": "4b2f42b7",
   "metadata": {},
   "outputs": [],
   "source": [
    "print(\"Corrected Sentence : \",corrected_sentence)"
   ]
  },
  {
   "cell_type": "code",
   "execution_count": null,
   "id": "21ab47de",
   "metadata": {},
   "outputs": [],
   "source": []
  }
 ],
 "metadata": {
  "kernelspec": {
   "display_name": "Python 3 (ipykernel)",
   "language": "python",
   "name": "python3"
  },
  "language_info": {
   "codemirror_mode": {
    "name": "ipython",
    "version": 3
   },
   "file_extension": ".py",
   "mimetype": "text/x-python",
   "name": "python",
   "nbconvert_exporter": "python",
   "pygments_lexer": "ipython3",
   "version": "3.11.2"
  }
 },
 "nbformat": 4,
 "nbformat_minor": 5
}
